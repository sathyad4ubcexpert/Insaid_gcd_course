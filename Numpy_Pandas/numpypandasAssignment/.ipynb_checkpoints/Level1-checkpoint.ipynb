{
 "cells": [
  {
   "cell_type": "markdown",
   "metadata": {},
   "source": [
    "<img src = 'https://github.com/insaid2018/Term-1/blob/master/Images/INSAID_Full%20Logo.png?raw=true' width=\"240\" height=\"360\">\n",
    "\n",
    "# __Assignment: Numpy and Pandas__\n",
    "\n",
    "### Level: 1"
   ]
  },
  {
   "cell_type": "markdown",
   "metadata": {},
   "source": [
    "### 1. Create a null vector of size 7 but the third and last value as 2."
   ]
  },
  {
   "cell_type": "code",
   "execution_count": 1,
   "metadata": {},
   "outputs": [
    {
     "data": {
      "text/plain": [
       "array([0., 0., 2., 0., 0., 0., 2.])"
      ]
     },
     "execution_count": 1,
     "metadata": {},
     "output_type": "execute_result"
    }
   ],
   "source": [
    "import numpy as np\n",
    "def generate():\n",
    "    v1 = np.zeros(7)\n",
    "    v1[2] = 2\n",
    "    v1[6] = 2\n",
    "    return v1 \n",
    "generate()"
   ]
  },
  {
   "cell_type": "markdown",
   "metadata": {},
   "source": [
    "### 2. Create a vector of size 9 with values ranging from 0 to 2, both excluded."
   ]
  },
  {
   "cell_type": "code",
   "execution_count": 8,
   "metadata": {},
   "outputs": [
    {
     "data": {
      "text/plain": [
       "array([0.2, 0.4, 0.6, 0.8, 1. , 1.2, 1.4, 1.6, 1.8])"
      ]
     },
     "execution_count": 8,
     "metadata": {},
     "output_type": "execute_result"
    }
   ],
   "source": [
    "import numpy as np\n",
    "def generate():\n",
    "    v2 = np.linspace(0,2,num = 10, endpoint = False)[1:]\n",
    "    return v2\n",
    "generate()"
   ]
  },
  {
   "cell_type": "markdown",
   "metadata": {},
   "source": [
    "### 3. Convert the first character of each element in a series to uppercase? And return the new series."
   ]
  },
  {
   "cell_type": "code",
   "execution_count": 10,
   "metadata": {},
   "outputs": [
    {
     "data": {
      "text/plain": [
       "0              How\n",
       "1               To\n",
       "2            Learn\n",
       "3    Data science?\n",
       "dtype: object"
      ]
     },
     "execution_count": 10,
     "metadata": {},
     "output_type": "execute_result"
    }
   ],
   "source": [
    "import pandas as pd\n",
    "series = pd.Series(['how', 'to', 'learn', 'data science?'])\n",
    "def generate():\n",
    "    n_series = series.map(lambda x: x[0].upper() + x[1:])\n",
    "    return n_series\n",
    "generate()"
   ]
  },
  {
   "cell_type": "markdown",
   "metadata": {},
   "source": [
    "### 4. Given a 3*3 matrix named matrix_fab, From each element of this matrix subtract the mean of that row, name this matrix as matrix_sub. Divide each element of this matrix by twice of the largest element to get matrix_norm. Print it out."
   ]
  },
  {
   "cell_type": "code",
   "execution_count": 13,
   "metadata": {},
   "outputs": [
    {
     "name": "stdout",
     "output_type": "stream",
     "text": [
      "[[-1.  0.  1.]\n",
      " [-1.  0.  1.]\n",
      " [-1.  0.  1.]]\n",
      "1.0\n"
     ]
    },
    {
     "data": {
      "text/plain": [
       "array([[-0.5,  0. ,  0.5],\n",
       "       [-0.5,  0. ,  0.5],\n",
       "       [-0.5,  0. ,  0.5]])"
      ]
     },
     "execution_count": 13,
     "metadata": {},
     "output_type": "execute_result"
    }
   ],
   "source": [
    "import numpy as np\n",
    "arr = np.arange(0,9)                                \n",
    "matrix_fab = arr.reshape(3,3)\n",
    "def generate():\n",
    "    matrix_sub = matrix_fab - matrix_fab.mean(axis=1, keepdims=True)\n",
    "    print(matrix_sub)\n",
    "    max1 = matrix_sub.max()\n",
    "    print(max1) \n",
    "    matrix_norm = matrix_sub / (2 * max1)\n",
    "    return matrix_norm\n",
    "generate()"
   ]
  },
  {
   "cell_type": "markdown",
   "metadata": {},
   "source": [
    "### 5. Create a random vector of size 12 , sort it in decreasing order, make 4*3 array using it.\n",
    "Hint: use reshape and sort function."
   ]
  },
  {
   "cell_type": "code",
   "execution_count": 19,
   "metadata": {},
   "outputs": [
    {
     "data": {
      "text/plain": [
       "array([[0.9483615 , 0.87490858, 0.79849105],\n",
       "       [0.74576184, 0.71195338, 0.66444716],\n",
       "       [0.60670501, 0.35280541, 0.33045196],\n",
       "       [0.25364871, 0.24362553, 0.01243865]])"
      ]
     },
     "execution_count": 19,
     "metadata": {},
     "output_type": "execute_result"
    }
   ],
   "source": [
    "import numpy as np\n",
    "\n",
    "def generate():\n",
    "    rand_vect = np.random.random(12)\n",
    "    rand_sort = np.array(sorted(rand_vect, reverse = True))\n",
    "    rand_new = rand_sort.reshape(4,3)\n",
    "    return rand_new\n",
    "generate()"
   ]
  },
  {
   "cell_type": "markdown",
   "metadata": {},
   "source": [
    "### 6. Below is Python dictionary data and Python list labels. Create a DataFrame df from this dictionary data which has index as labels. Select the rows where the age is missing, i.e. is NaN."
   ]
  },
  {
   "cell_type": "code",
   "execution_count": 23,
   "metadata": {},
   "outputs": [
    {
     "data": {
      "text/html": [
       "<div>\n",
       "<style scoped>\n",
       "    .dataframe tbody tr th:only-of-type {\n",
       "        vertical-align: middle;\n",
       "    }\n",
       "\n",
       "    .dataframe tbody tr th {\n",
       "        vertical-align: top;\n",
       "    }\n",
       "\n",
       "    .dataframe thead th {\n",
       "        text-align: right;\n",
       "    }\n",
       "</style>\n",
       "<table border=\"1\" class=\"dataframe\">\n",
       "  <thead>\n",
       "    <tr style=\"text-align: right;\">\n",
       "      <th></th>\n",
       "      <th>animal</th>\n",
       "      <th>age</th>\n",
       "      <th>visits</th>\n",
       "      <th>priority</th>\n",
       "    </tr>\n",
       "  </thead>\n",
       "  <tbody>\n",
       "    <tr>\n",
       "      <th>d</th>\n",
       "      <td>dog</td>\n",
       "      <td>NaN</td>\n",
       "      <td>3</td>\n",
       "      <td>yes</td>\n",
       "    </tr>\n",
       "    <tr>\n",
       "      <th>h</th>\n",
       "      <td>cat</td>\n",
       "      <td>NaN</td>\n",
       "      <td>1</td>\n",
       "      <td>yes</td>\n",
       "    </tr>\n",
       "  </tbody>\n",
       "</table>\n",
       "</div>"
      ],
      "text/plain": [
       "  animal  age  visits priority\n",
       "d    dog  NaN       3      yes\n",
       "h    cat  NaN       1      yes"
      ]
     },
     "execution_count": 23,
     "metadata": {},
     "output_type": "execute_result"
    }
   ],
   "source": [
    "import numpy as np\n",
    "import pandas as pd\n",
    "\n",
    "data = {'animal': ['cat', 'cat', 'snake', 'dog', 'dog', 'cat', 'snake', 'cat', 'dog', 'dog'],\n",
    "        'age': [2.5, 3, 0.5, np.nan, 5, 2, 4.5, np.nan, 7, 3],\n",
    "        'visits': [1, 3, 2, 3, 2, 3, 1, 1, 2, 1],\n",
    "        'priority': ['yes', 'yes', 'no', 'yes', 'no', 'no', 'no', 'yes', 'no', 'no']}\n",
    "\n",
    "labels = ['a', 'b', 'c', 'd', 'e', 'f', 'g', 'h', 'i', 'j']\n",
    "\n",
    "\n",
    "\n",
    "def generate():\n",
    "    df = pd.DataFrame(data, index= labels)\n",
    "    df1 = df[df['age'].isnull()]    \n",
    "    return df1\n",
    "generate()"
   ]
  },
  {
   "cell_type": "markdown",
   "metadata": {},
   "source": [
    "### 7. From the give dataframe df, in the 'animal' column change the 'dog' entries to 'Labrador', change the age in row 'd' to 2.7 and calculate the mean age (name it mean_age) for each different animal in df. Print df and return mean_age."
   ]
  },
  {
   "cell_type": "code",
   "execution_count": 27,
   "metadata": {},
   "outputs": [
    {
     "name": "stdout",
     "output_type": "stream",
     "text": [
      "     animal  age  visits priority\n",
      "a       cat  2.5       1      yes\n",
      "b       cat  3.0       3      yes\n",
      "c     snake  0.5       2       no\n",
      "d  Labrador  2.7       3      yes\n",
      "e  Labrador  5.0       2       no\n",
      "f       cat  2.0       3       no\n",
      "g     snake  4.5       1       no\n",
      "h       cat  NaN       1      yes\n",
      "i  Labrador  7.0       2       no\n",
      "j  Labrador  3.0       1       no\n"
     ]
    },
    {
     "data": {
      "text/plain": [
       "animal\n",
       "Labrador    4.425\n",
       "cat         2.500\n",
       "snake       2.500\n",
       "Name: age, dtype: float64"
      ]
     },
     "execution_count": 27,
     "metadata": {},
     "output_type": "execute_result"
    }
   ],
   "source": [
    "import pandas as pd\n",
    "\n",
    "data = {'animal': ['cat', 'cat', 'snake', 'dog', 'dog', 'cat', 'snake', 'cat', 'dog', 'dog'],\n",
    "        'age': [2.5, 3, 0.5, np.nan, 5, 2, 4.5, np.nan, 7, 3],\n",
    "        'visits': [1, 3, 2, 3, 2, 3, 1, 1, 2, 1],\n",
    "        'priority': ['yes', 'yes', 'no', 'yes', 'no', 'no', 'no', 'yes', 'no', 'no']}\n",
    "\n",
    "labels = ['a', 'b', 'c', 'd', 'e', 'f', 'g', 'h', 'i', 'j']\n",
    "\n",
    "def generate():\n",
    "    df = pd.DataFrame(data, index= labels)\n",
    "    df['animal'] = df['animal'].replace('dog', 'Labrador')\n",
    "    df.loc['d', 'age'] = 2.7\n",
    "    mean_age = df.groupby('animal')['age'].mean()\n",
    "    print(df)\n",
    "    return mean_age\n",
    "generate()"
   ]
  },
  {
   "cell_type": "markdown",
   "metadata": {},
   "source": [
    "### 8.  From the given dataframe get the positions where values of two columns match?"
   ]
  },
  {
   "cell_type": "code",
   "execution_count": 40,
   "metadata": {},
   "outputs": [
    {
     "data": {
      "text/html": [
       "<div>\n",
       "<style scoped>\n",
       "    .dataframe tbody tr th:only-of-type {\n",
       "        vertical-align: middle;\n",
       "    }\n",
       "\n",
       "    .dataframe tbody tr th {\n",
       "        vertical-align: top;\n",
       "    }\n",
       "\n",
       "    .dataframe thead th {\n",
       "        text-align: right;\n",
       "    }\n",
       "</style>\n",
       "<table border=\"1\" class=\"dataframe\">\n",
       "  <thead>\n",
       "    <tr style=\"text-align: right;\">\n",
       "      <th></th>\n",
       "      <th>fruit1</th>\n",
       "      <th>fruit2</th>\n",
       "    </tr>\n",
       "  </thead>\n",
       "  <tbody>\n",
       "    <tr>\n",
       "      <th>2</th>\n",
       "      <td>apple</td>\n",
       "      <td>apple</td>\n",
       "    </tr>\n",
       "    <tr>\n",
       "      <th>3</th>\n",
       "      <td>orange</td>\n",
       "      <td>orange</td>\n",
       "    </tr>\n",
       "    <tr>\n",
       "      <th>4</th>\n",
       "      <td>orange</td>\n",
       "      <td>orange</td>\n",
       "    </tr>\n",
       "  </tbody>\n",
       "</table>\n",
       "</div>"
      ],
      "text/plain": [
       "   fruit1  fruit2\n",
       "2   apple   apple\n",
       "3  orange  orange\n",
       "4  orange  orange"
      ]
     },
     "execution_count": 40,
     "metadata": {},
     "output_type": "execute_result"
    }
   ],
   "source": [
    "import pandas as pd\n",
    "import numpy as np\n",
    "df = pd.DataFrame({'fruit1': np.random.choice(['apple', 'orange', 'banana'], 10),\n",
    "                    'fruit2': np.random.choice(['apple', 'orange', 'banana'], 10)})\n",
    "\n",
    "def generate():\n",
    "    s = np.where(df.fruit1 == df.fruit2)\n",
    "    return s\n",
    "\n",
    "generate()"
   ]
  },
  {
   "cell_type": "markdown",
   "metadata": {},
   "source": [
    "### 9. Find the positions of numbers that are multiples of 4 from a series? Print series and return position. Hint: use argwhere."
   ]
  },
  {
   "cell_type": "code",
   "execution_count": null,
   "metadata": {},
   "outputs": [],
   "source": [
    "import pandas as pd\n",
    "import numpy as np\n",
    "series = pd.Series(np.random.randint(1, 10, 7))\n",
    "def generate():\n",
    "    # your code here\n",
    "    # print(series)\n",
    "    return # your variable\n",
    "generate()"
   ]
  },
  {
   "cell_type": "markdown",
   "metadata": {},
   "source": [
    "### 10. Stack two given series vertically and horizontally ? Print out both."
   ]
  },
  {
   "cell_type": "code",
   "execution_count": null,
   "metadata": {},
   "outputs": [],
   "source": [
    "import pandas as pd\n",
    "import numpy as np\n",
    "series1 = pd.Series(range(5))\n",
    "series2 = pd.Series(list('abcde'))\n",
    "def generate():\n",
    "    # your code \n",
    "    # print out both vertically and horizontally stacked series.\n",
    "    return None\n",
    "generate()"
   ]
  }
 ],
 "metadata": {
  "kernelspec": {
   "display_name": "Python 3",
   "language": "python",
   "name": "python3"
  },
  "language_info": {
   "codemirror_mode": {
    "name": "ipython",
    "version": 3
   },
   "file_extension": ".py",
   "mimetype": "text/x-python",
   "name": "python",
   "nbconvert_exporter": "python",
   "pygments_lexer": "ipython3",
   "version": "3.8.3"
  }
 },
 "nbformat": 4,
 "nbformat_minor": 2
}
